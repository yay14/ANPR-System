{
  "nbformat": 4,
  "nbformat_minor": 0,
  "metadata": {
    "colab": {
      "name": "test_data.ipynb",
      "provenance": [],
      "collapsed_sections": [],
      "authorship_tag": "ABX9TyPWePkSCPGxQniplKl2ydwC",
      "include_colab_link": true
    },
    "kernelspec": {
      "name": "python3",
      "display_name": "Python 3"
    },
    "language_info": {
      "name": "python"
    },
    "accelerator": "GPU"
  },
  "cells": [
    {
      "cell_type": "markdown",
      "metadata": {
        "id": "view-in-github",
        "colab_type": "text"
      },
      "source": [
        "<a href=\"https://colab.research.google.com/github/yay14/ANPR-System/blob/main/test_data.ipynb\" target=\"_parent\"><img src=\"https://colab.research.google.com/assets/colab-badge.svg\" alt=\"Open In Colab\"/></a>"
      ]
    },
    {
      "cell_type": "code",
      "metadata": {
        "colab": {
          "base_uri": "https://localhost:8080/"
        },
        "id": "oVJCy4bFbbRT",
        "outputId": "ff856123-2e1c-4b9a-d544-9ba6d758c78d"
      },
      "source": [
        "from google.colab import drive\n",
        "drive.mount('/content/drive',force_remount=True)"
      ],
      "execution_count": 5,
      "outputs": [
        {
          "output_type": "stream",
          "text": [
            "Mounted at /content/drive\n"
          ],
          "name": "stdout"
        }
      ]
    },
    {
      "cell_type": "code",
      "metadata": {
        "id": "CF7EBMfqaoPx"
      },
      "source": [
        "import os\n",
        "import cv2\n",
        "import numpy as np\n",
        "\n",
        "\n",
        "PATH='/content/drive/MyDrive/ANPR System/dataset/test/images'\n"
      ],
      "execution_count": null,
      "outputs": []
    },
    {
      "cell_type": "code",
      "metadata": {
        "id": "QiQZOrrgbvWg"
      },
      "source": [
        "def is_same(image1, image2):\n",
        "    return image1.shape == image2.shape and not(np.bitwise_xor(image1,image2).any())"
      ],
      "execution_count": null,
      "outputs": []
    },
    {
      "cell_type": "code",
      "metadata": {
        "colab": {
          "base_uri": "https://localhost:8080/"
        },
        "id": "CHmevv_Tb4pS",
        "outputId": "875d3f84-df12-4653-9dac-6dc56a146bb1"
      },
      "source": [
        "files=os.listdir(PATH)\n",
        "files"
      ],
      "execution_count": null,
      "outputs": [
        {
          "output_type": "execute_result",
          "data": {
            "text/plain": [
              "['Cars113.png',\n",
              " 'Cars126.png',\n",
              " 'Cars128.png',\n",
              " 'Cars107.png',\n",
              " 'Cars0.png',\n",
              " 'Cars1.png',\n",
              " 'Cars118.png',\n",
              " 'Cars111.png',\n",
              " 'Cars109.png',\n",
              " 'Cars108.png',\n",
              " 'Cars120.png',\n",
              " 'Cars12.png',\n",
              " 'Cars102.png',\n",
              " 'Cars116.png',\n",
              " 'Cars133.png',\n",
              " 'Cars11.png',\n",
              " 'Cars125.png',\n",
              " 'Cars129.png',\n",
              " 'Cars177.png',\n",
              " 'Cars167.png',\n",
              " 'Cars14.png',\n",
              " 'Cars140.png',\n",
              " 'Cars144.png',\n",
              " 'Cars175.png',\n",
              " 'Cars150.png',\n",
              " 'Cars159.png',\n",
              " 'Cars163.png',\n",
              " 'Cars158.png',\n",
              " 'Cars190.png',\n",
              " 'Cars183.png',\n",
              " 'Cars182.png',\n",
              " 'Cars18.png',\n",
              " 'Cars211.png',\n",
              " 'Cars212.png',\n",
              " 'Cars19.png',\n",
              " 'Cars199.png',\n",
              " 'Cars192.png',\n",
              " 'Cars219.png',\n",
              " 'Cars235.png',\n",
              " 'Cars255.png',\n",
              " 'Cars252.png',\n",
              " 'Cars234.png',\n",
              " 'Cars248.png',\n",
              " 'Cars231.png',\n",
              " 'Cars243.png',\n",
              " 'Cars257.png',\n",
              " 'Cars254.png',\n",
              " 'Cars27.png',\n",
              " 'Cars296.png',\n",
              " 'Cars299.png',\n",
              " 'Cars265.png',\n",
              " 'Cars298.png',\n",
              " 'Cars261.png',\n",
              " 'Cars304.png',\n",
              " 'Cars302.png',\n",
              " 'Cars312.png',\n",
              " 'Cars301.png',\n",
              " 'Cars322.png',\n",
              " 'Cars315.png',\n",
              " 'Cars309.png',\n",
              " 'Cars323.png',\n",
              " 'Cars307.png',\n",
              " 'Cars32.png',\n",
              " 'Cars306.png',\n",
              " 'Cars367.png',\n",
              " 'Cars355.png',\n",
              " 'Cars365.png',\n",
              " 'Cars351.png',\n",
              " 'Cars372.png',\n",
              " 'Cars374.png',\n",
              " 'Cars382.png',\n",
              " 'Cars39.png',\n",
              " 'Cars389.png',\n",
              " 'Cars387.png',\n",
              " 'Cars381.png',\n",
              " 'Cars396.png',\n",
              " 'Cars417.png',\n",
              " 'Cars53.png',\n",
              " 'Cars54.png',\n",
              " 'Cars430.png',\n",
              " 'Cars429.png',\n",
              " 'Cars423.png',\n",
              " 'Cars65.png',\n",
              " 'Cars427.png',\n",
              " 'Cars416.png',\n",
              " 'Cars60.png',\n",
              " 'Cars58.png',\n",
              " 'Cars77.png',\n",
              " 'Cars67.png',\n",
              " 'Cars86.png',\n",
              " 'Cars130.png',\n",
              " 'Cars152.png',\n",
              " 'Cars186.png',\n",
              " 'Cars191.png',\n",
              " 'Cars205.png',\n",
              " 'Cars24.png',\n",
              " 'Cars343.png',\n",
              " 'Cars61.png',\n",
              " 'Cars57.png',\n",
              " 'Cars51.png',\n",
              " 'Cars79.png',\n",
              " 'Cars82.png',\n",
              " 'Cars94.png']"
            ]
          },
          "metadata": {
            "tags": []
          },
          "execution_count": 4
        }
      ]
    },
    {
      "cell_type": "code",
      "metadata": {
        "id": "7jlFb4_Pb_4z"
      },
      "source": [
        "ls={}\n",
        "for i in range(0,len(files)):\n",
        "    \n",
        "    f1=f'{PATH}/{files[i]}'\n",
        "    if not os.path.exists(f1):\n",
        "        continue\n",
        "        \n",
        "    img=cv2.imread(f1)\n",
        "    ls[f1]=img\n",
        "    \n"
      ],
      "execution_count": null,
      "outputs": []
    },
    {
      "cell_type": "code",
      "metadata": {
        "colab": {
          "base_uri": "https://localhost:8080/"
        },
        "id": "a1jn8lascSGc",
        "outputId": "6e0fce99-76cb-4cbc-aa9b-e1afe9c787e5"
      },
      "source": [
        "#iterate over all image files to check if duplicates are present\n",
        "\n",
        "for i in range(0,len(files)):\n",
        "    \n",
        "    print(\"Checking\",files[i])\n",
        "    f1=f'{PATH}/{files[i]}'\n",
        "    if not os.path.exists(f1):\n",
        "        continue\n",
        "        \n",
        "    img=ls[f1]\n",
        "    \n",
        "    for j in range(i+1,len(files)):\n",
        "        f2=f'{PATH}/{files[j]}'\n",
        "        \n",
        "        img2=ls[f2]\n",
        "        \n",
        "        #remove duplicate images\n",
        "        if is_same(img,img2):\n",
        "            os.remove(f2)\n",
        "            print(f1,f2)"
      ],
      "execution_count": null,
      "outputs": [
        {
          "output_type": "stream",
          "text": [
            "Checking Cars113.png\n",
            "Checking Cars126.png\n",
            "Checking Cars128.png\n",
            "Checking Cars107.png\n",
            "Checking Cars0.png\n",
            "Checking Cars1.png\n",
            "Checking Cars118.png\n",
            "Checking Cars111.png\n",
            "Checking Cars109.png\n",
            "Checking Cars108.png\n",
            "Checking Cars120.png\n",
            "Checking Cars12.png\n",
            "Checking Cars102.png\n",
            "Checking Cars116.png\n",
            "Checking Cars133.png\n",
            "Checking Cars11.png\n",
            "Checking Cars125.png\n",
            "Checking Cars129.png\n",
            "Checking Cars177.png\n",
            "Checking Cars167.png\n",
            "Checking Cars14.png\n",
            "Checking Cars140.png\n",
            "Checking Cars144.png\n",
            "Checking Cars175.png\n",
            "Checking Cars150.png\n",
            "Checking Cars159.png\n",
            "Checking Cars163.png\n",
            "Checking Cars158.png\n",
            "Checking Cars190.png\n",
            "Checking Cars183.png\n",
            "Checking Cars182.png\n",
            "Checking Cars18.png\n",
            "Checking Cars211.png\n",
            "Checking Cars212.png\n",
            "Checking Cars19.png\n",
            "Checking Cars199.png\n",
            "Checking Cars192.png\n",
            "Checking Cars219.png\n",
            "Checking Cars235.png\n",
            "Checking Cars255.png\n",
            "Checking Cars252.png\n",
            "Checking Cars234.png\n",
            "Checking Cars248.png\n",
            "Checking Cars231.png\n",
            "Checking Cars243.png\n",
            "Checking Cars257.png\n",
            "Checking Cars254.png\n",
            "Checking Cars27.png\n",
            "Checking Cars296.png\n",
            "Checking Cars299.png\n",
            "Checking Cars265.png\n",
            "Checking Cars298.png\n",
            "Checking Cars261.png\n",
            "Checking Cars304.png\n",
            "Checking Cars302.png\n",
            "Checking Cars312.png\n",
            "Checking Cars301.png\n",
            "Checking Cars322.png\n",
            "Checking Cars315.png\n",
            "Checking Cars309.png\n",
            "Checking Cars323.png\n",
            "Checking Cars307.png\n",
            "Checking Cars32.png\n",
            "Checking Cars306.png\n",
            "Checking Cars367.png\n",
            "Checking Cars355.png\n",
            "Checking Cars365.png\n",
            "Checking Cars351.png\n",
            "Checking Cars372.png\n",
            "Checking Cars374.png\n",
            "Checking Cars382.png\n",
            "Checking Cars39.png\n",
            "Checking Cars389.png\n",
            "Checking Cars387.png\n",
            "Checking Cars381.png\n",
            "Checking Cars396.png\n",
            "Checking Cars417.png\n",
            "Checking Cars53.png\n",
            "Checking Cars54.png\n",
            "Checking Cars430.png\n",
            "Checking Cars429.png\n",
            "Checking Cars423.png\n",
            "Checking Cars65.png\n",
            "Checking Cars427.png\n",
            "Checking Cars416.png\n",
            "Checking Cars60.png\n",
            "Checking Cars58.png\n",
            "Checking Cars77.png\n",
            "Checking Cars67.png\n",
            "Checking Cars86.png\n",
            "Checking Cars130.png\n",
            "Checking Cars152.png\n",
            "Checking Cars186.png\n",
            "Checking Cars191.png\n",
            "Checking Cars205.png\n",
            "Checking Cars24.png\n",
            "Checking Cars343.png\n",
            "Checking Cars61.png\n",
            "Checking Cars57.png\n",
            "Checking Cars51.png\n",
            "Checking Cars79.png\n",
            "Checking Cars82.png\n",
            "Checking Cars94.png\n"
          ],
          "name": "stdout"
        }
      ]
    },
    {
      "cell_type": "code",
      "metadata": {
        "id": "Zlp27KZJf7tc"
      },
      "source": [
        "import os\n",
        "import xml.etree.ElementTree as ET\n",
        "import re"
      ],
      "execution_count": null,
      "outputs": []
    },
    {
      "cell_type": "code",
      "metadata": {
        "id": "tfAXRv93kd_y"
      },
      "source": [
        "PATH='/content/drive/MyDrive/ANPR System/dataset/test'"
      ],
      "execution_count": null,
      "outputs": []
    },
    {
      "cell_type": "code",
      "metadata": {
        "id": "2BwoVb2dgBT8"
      },
      "source": [
        "def xml_to_txt(file):    \n",
        "    \n",
        "    #reading xml file\n",
        "    root=ET.parse(f'{PATH}/annotations/{file}.xml').getroot()\n",
        "\n",
        "    #extracting bounding box\n",
        "    ob=root.find('object')\n",
        "\n",
        "    xmin=int(ob.find('bndbox/xmin').text)\n",
        "    ymin=int(ob.find('bndbox/ymin').text)\n",
        "    xmax=int(ob.find('bndbox/xmax').text)\n",
        "    ymax=int(ob.find('bndbox/ymax').text)\n",
        "\n",
        "    writing to text file\n",
        "    f=open(f'{PATH}/bounding_boxes/{file}.txt','w')\n",
        "    f.write(f'0 {xmin} {ymin} {xmax} {ymax}')\n",
        "    f.close()"
      ],
      "execution_count": null,
      "outputs": []
    },
    {
      "cell_type": "code",
      "metadata": {
        "id": "YyY9fSGkIPYk"
      },
      "source": [
        "PATH='/content/drive/MyDrive/ANPRSystem/dataset/test/bounding_boxes/'"
      ],
      "execution_count": 6,
      "outputs": []
    },
    {
      "cell_type": "code",
      "metadata": {
        "colab": {
          "base_uri": "https://localhost:8080/",
          "height": 35
        },
        "id": "7CZdo2-LPpPq",
        "outputId": "f056f780-6e8c-4bbe-9769-d19ae7b35eb6"
      },
      "source": [
        "#os.chdir(PATH)\n",
        "os.getcwd()"
      ],
      "execution_count": 13,
      "outputs": [
        {
          "output_type": "execute_result",
          "data": {
            "application/vnd.google.colaboratory.intrinsic+json": {
              "type": "string"
            },
            "text/plain": [
              "'/content/drive/My Drive/ANPRSystem/dataset/test/bounding_boxes'"
            ]
          },
          "metadata": {
            "tags": []
          },
          "execution_count": 13
        }
      ]
    },
    {
      "cell_type": "markdown",
      "metadata": {
        "id": "GrHOyJv9L0GM"
      },
      "source": [
        "Converting to YOLO format and Scaling down the annotations\n"
      ]
    },
    {
      "cell_type": "code",
      "metadata": {
        "colab": {
          "base_uri": "https://localhost:8080/"
        },
        "id": "ENyfEqyqL1bO",
        "outputId": "66d9b6da-6a05-4774-b5a3-d640f76ce6da"
      },
      "source": [
        "import os\n",
        "try:\n",
        "    from PIL import Image\n",
        "except ImportError:\n",
        "    import Image\n",
        "\n",
        "for f in os.listdir(PATH):\n",
        "    bb=open(os.path.join(PATH,f))\n",
        "    \n",
        "    image_name=f.split('.')[0]\n",
        "    \n",
        "    row=bb.readline().split(' ')\n",
        "    \n",
        "    row=[int(x) for x in row]\n",
        "    \n",
        "    width,height=Image.open(f'/content/drive/My Drive/ANPRSystem/dataset/test/images/{image_name}.png').size\n",
        "    \n",
        "    #scale bounding box annotations: width by 10% and height by 20%\n",
        "    w=row[3]-row[1]\n",
        "    row[1]=max(0,row[1]-w*.1)\n",
        "    row[3]=min(width,row[3]+w*.1)\n",
        "    \n",
        "    h=row[4]-row[2]\n",
        "    row[2]=max(0,row[2]-h*.2)\n",
        "    row[4]=min(height,row[4]+h*.2)\n",
        "        \n",
        "    \n",
        "    \n",
        "    #centre X\n",
        "    c_x=(row[1]+row[3])/2\n",
        "    c_x/=width\n",
        "    \n",
        "    #centre Y\n",
        "    c_y=(row[2]+row[4])/2\n",
        "    c_y/=height\n",
        "    \n",
        "    #width\n",
        "    w=row[3]-row[1]\n",
        "    w/=width\n",
        "    \n",
        "    #height\n",
        "    h=row[4]-row[2]\n",
        "    h/=height\n",
        "\n",
        "    \n",
        "\n",
        "    label_path=f'/content/drive/My Drive/ANPRSystem/dataset/test/labels/{image_name}.txt'\n",
        "    \n",
        "    #creating label text file\n",
        "    f1=open(label_path,'w')\n",
        "    \n",
        "    #writing values in the yolov5 format\n",
        "    label=f'0 {c_x} {c_y} {w} {h}'\n",
        "    f1.write(label)\n",
        "    \n",
        "    print(f,label)\n",
        "    \n",
        "\n",
        "    \n",
        "    f1.close()\n",
        "    "
      ],
      "execution_count": 17,
      "outputs": [
        {
          "output_type": "stream",
          "text": [
            "licensed_car0.txt 0 0.57125 0.48833333333333334 0.465 0.3126666666666667\n",
            "licensed_car1.txt 0 0.495 0.5 0.57 0.47600000000000003\n",
            "licensed_car2.txt 0 0.5225 0.5288888888888889 0.582 0.6719999999999999\n",
            "licensed_car3.txt 0 0.47983014861995754 0.512962962962963 0.43312101910828027 0.2644444444444444\n",
            "licensed_car4.txt 0 0.645 0.5559701492537313 0.46320000000000006 0.2507462686567164\n",
            "licensed_car5.txt 0 0.495 0.5806451612903226 0.38400000000000006 0.18064516129032263\n",
            "licensed_car6.txt 0 0.4891666666666667 0.5093333333333333 0.402 0.19413333333333335\n",
            "licensed_car7.txt 0 0.6641666666666667 0.5458579881656804 0.31799999999999995 0.1615384615384616\n",
            "licensed_car8.txt 0 0.49125 0.5037453183520599 0.48900000000000005 0.19400749063670417\n",
            "licensed_car9.txt 0 0.4920814479638009 0.6966966966966966 0.32307692307692304 0.13453453453453457\n",
            "licensed_car10.txt 0 0.51125 0.7132075471698113 0.273 0.11622641509433966\n",
            "licensed_car11.txt 0 0.49875 0.7056737588652482 0.465 0.3475177304964539\n",
            "licensed_car12.txt 0 0.5542857142857143 0.6577946768060836 0.8777142857142859 0.27680608365019016\n",
            "licensed_car13.txt 0 0.52 0.7003012048192772 0.35400000000000004 0.1222891566265061\n",
            "licensed_car14.txt 0 0.5183333333333333 0.49635036496350365 0.25600000000000006 0.12944038929440385\n",
            "licensed_car15.txt 0 0.505 0.7213114754098361 0.42599999999999993 0.1285245901639344\n",
            "licensed_car16.txt 0 0.79375 0.8534615384615385 0.225 0.293076923076923\n",
            "licensed_car17.txt 0 0.45849056603773586 0.6030150753768844 0.1766037735849057 0.18994974874371864\n",
            "licensed_car18.txt 0 0.52625 0.7542016806722689 0.36900000000000005 0.15882352941176475\n",
            "licensed_car19.txt 0 0.503 0.67375 0.36240000000000006 0.10849999999999994\n",
            "licensed_car20.txt 0 0.46 0.6244444444444445 0.54 0.28\n",
            "licensed_car21.txt 0 0.8090804597701149 0.8958620689655172 0.38183908045977016 0.20827586206896553\n",
            "licensed_car22.txt 0 0.49375 0.5153846153846153 0.42750000000000005 0.2153846153846154\n",
            "licensed_car23.txt 0 0.6258333333333334 0.6711111111111111 0.32200000000000006 0.40444444444444444\n",
            "licensed_car24.txt 0 0.48 0.7166666666666667 0.42 0.15866666666666673\n",
            "licensed_car25.txt 0 0.5125 0.5948795180722891 0.33599999999999997 0.11385542168674702\n",
            "licensed_car26.txt 0 0.4915254237288136 0.5328571428571428 0.2847457627118644 0.10800000000000003\n",
            "licensed_car27.txt 0 0.49125 0.5466666666666666 0.597 0.42933333333333334\n",
            "licensed_car28.txt 0 0.4925 0.7416666666666667 0.288 0.11666666666666667\n",
            "licensed_car29.txt 0 0.2805084745762712 0.44 0.2786440677966101 0.12800000000000003\n",
            "licensed_car30.txt 0 0.51875 0.6622222222222223 0.23700000000000002 0.12444444444444444\n",
            "licensed_car31.txt 0 0.7080867850098619 0.7693298969072165 0.2177514792899408 0.09020618556701031\n",
            "licensed_car32.txt 0 0.5 0.5067796610169492 1.0 0.8115254237288135\n",
            "licensed_car33.txt 0 0.49375 0.39166666666666666 0.555 0.21933333333333338\n",
            "licensed_car34.txt 0 0.46125 0.8895833333333333 0.21900000000000006 0.21583333333333338\n",
            "licensed_car35.txt 0 0.46125 0.462406015037594 0.7530000000000001 0.3684210526315789\n",
            "licensed_car36.txt 0 0.4938080495356037 0.711453744493392 0.3826625386996904 0.14185022026431712\n",
            "licensed_car37.txt 0 0.49083333333333334 0.4533333333333333 0.67 0.19911111111111116\n",
            "licensed_car38.txt 0 0.49875 0.6933333333333334 0.285 0.13688888888888895\n",
            "licensed_car39.txt 0 0.48625 0.6441947565543071 0.4709999999999999 0.16779026217228468\n",
            "licensed_car40.txt 0 0.488 0.6723684210526316 0.336 0.13631578947368417\n",
            "licensed_car41.txt 0 0.5075 0.6866952789699571 0.25799999999999995 0.13218884120171678\n",
            "licensed_car42.txt 0 0.61875 0.5566666666666666 0.38099999999999995 0.22399999999999995\n",
            "licensed_car43.txt 0 0.24625 0.6367041198501873 0.20700000000000002 0.10486891385767791\n",
            "licensed_car44.txt 0 0.495 0.45444444444444443 0.672 0.18977777777777774\n",
            "licensed_car45.txt 0 0.51 0.49666666666666665 0.22200000000000003 0.1586666666666667\n",
            "licensed_car46.txt 0 0.50125 0.5204359673024523 0.20700000000000002 0.12207084468664853\n",
            "licensed_car47.txt 0 0.49125 0.6355555555555555 0.2909999999999999 0.19911111111111116\n",
            "licensed_car48.txt 0 0.49625 0.5566037735849056 0.21299999999999997 0.1672955974842767\n",
            "licensed_car49.txt 0 0.46375 0.52 0.507 0.18666666666666668\n",
            "licensed_car50.txt 0 0.37875 0.8596330275229358 0.387 0.2807339449541284\n",
            "licensed_car51.txt 0 0.49875 0.6194029850746269 0.20099999999999996 0.18805970149253723\n",
            "licensed_car52.txt 0 0.5 0.31666666666666665 1.0 0.3111111111111111\n",
            "licensed_car53.txt 0 0.45625 0.5973451327433629 0.23700000000000002 0.2601769911504425\n",
            "licensed_car54.txt 0 0.647 0.5277777777777778 0.4872 0.3051282051282051\n",
            "licensed_car55.txt 0 0.5330508474576271 0.44571428571428573 0.8277966101694916 0.72\n",
            "licensed_car56.txt 0 0.508 0.521551724137931 0.23520000000000005 0.16896551724137926\n",
            "licensed_car57.txt 0 0.78 0.7824858757062146 0.22800000000000012 0.15819209039548024\n",
            "licensed_car58.txt 0 0.5 0.465 1.0 0.3873333333333333\n",
            "licensed_car59.txt 0 0.505 0.7311111111111112 0.3 0.5288888888888889\n",
            "licensed_car60.txt 0 0.5025 0.20666666666666667 0.468 0.23022222222222224\n",
            "licensed_car61.txt 0 0.5075 0.4592326139088729 0.53 0.19136690647482016\n",
            "licensed_car62.txt 0 0.56375 0.5266666666666666 0.15300000000000005 0.08399999999999996\n",
            "licensed_car63.txt 0 0.485 0.74 0.33 0.09800000000000011\n",
            "licensed_car64.txt 0 0.6733333333333333 0.6404682274247492 0.4213333333333334 0.2856187290969899\n",
            "licensed_car65.txt 0 0.50375 0.6466165413533834 0.225 0.18947368421052624\n",
            "licensed_car66.txt 0 0.555 0.5401002506265664 0.16 0.07368421052631573\n",
            "licensed_car67.txt 0 0.77125 0.3933333333333333 0.357 0.504\n",
            "licensed_car68.txt 0 0.5125 0.6952380952380952 0.2828571428571428 0.11333333333333338\n",
            "licensed_car69.txt 0 0.78248031496063 0.4961832061068702 0.205511811023622 0.12824427480916034\n",
            "licensed_car70.txt 0 0.5425 0.7433333333333333 0.40800000000000003 0.15866666666666673\n",
            "licensed_car71.txt 0 0.69125 0.655 0.30900000000000005 0.15399999999999997\n",
            "licensed_car72.txt 0 0.24916666666666668 0.75 0.29 0.20222222222222222\n",
            "licensed_car73.txt 0 0.4872093023255814 0.7202797202797203 0.2595348837209303 0.18601398601398597\n",
            "licensed_car74.txt 0 0.265 0.6355555555555555 0.24599999999999997 0.14933333333333337\n",
            "licensed_car75.txt 0 0.7978723404255319 0.69125 0.3744680851063831 0.0875\n",
            "licensed_car76.txt 0 0.45375 0.5779661016949152 0.549 0.24203389830508468\n",
            "licensed_car77.txt 0 0.5075 0.6944444444444444 0.34199999999999997 0.1263888888888888\n",
            "licensed_car78.txt 0 0.50625 0.29833333333333334 0.32699999999999996 0.266\n",
            "licensed_car79.txt 0 0.1925 0.7911111111111111 0.23399999999999999 0.2364444444444444\n",
            "licensed_car80.txt 0 0.4883720930232558 0.45125 0.48637873754152816 0.10150000000000006\n",
            "licensed_car81.txt 0 0.55625 0.684 0.36300000000000004 0.1344000000000001\n",
            "licensed_car82.txt 0 0.4875 0.5424528301886793 0.21461538461538465 0.19811320754716982\n",
            "licensed_car83.txt 0 0.5091666666666667 0.4677777777777778 0.27799999999999997 0.10888888888888888\n",
            "licensed_car84.txt 0 0.48 0.7133333333333334 0.252 0.06533333333333341\n",
            "licensed_car85.txt 0 0.51125 0.42833333333333334 0.9569999999999999 0.2846666666666666\n",
            "licensed_car86.txt 0 0.49375 0.7145748987854251 0.26099999999999995 0.11902834008097157\n",
            "licensed_car87.txt 0 0.6725 0.6092592592592593 0.24 0.14000000000000004\n",
            "licensed_car88.txt 0 0.4674502712477396 0.8563636363636363 0.301627486437613 0.12727272727272726\n",
            "licensed_car89.txt 0 0.6646757679180887 0.5740181268882175 0.2354948805460751 0.118429003021148\n",
            "licensed_car90.txt 0 0.32125 0.4681647940074906 0.225 0.15730337078651685\n",
            "licensed_car91.txt 0 0.31156316916488225 0.9033333333333333 0.2749464668094218 0.12133333333333325\n",
            "licensed_car92.txt 0 0.52125 0.7108695652173913 0.20099999999999996 0.13999999999999996\n",
            "licensed_car93.txt 0 0.36875 0.8252032520325203 0.309 0.15934959349593492\n",
            "licensed_car94.txt 0 0.4724310776942356 0.45125 0.19548872180451127 0.12950000000000003\n",
            "licensed_car95.txt 0 0.50875 0.705 0.21900000000000006 0.08866666666666674\n",
            "licensed_car96.txt 0 0.34 0.6583333333333333 0.15599999999999997 0.1073333333333333\n",
            "licensed_car97.txt 0 0.33625 0.5916666666666667 0.38099999999999995 0.49933333333333335\n",
            "licensed_car98.txt 0 0.685614849187935 0.737603305785124 0.1419953596287704 0.19090909090909086\n",
            "licensed_car99.txt 0 0.7275 0.5695488721804511 0.1619999999999999 0.1105263157894736\n",
            "licensed_car100.txt 0 0.49 0.7391713747645952 0.22399999999999995 0.15555555555555559\n",
            "licensed_car101.txt 0 0.55875 0.4503311258278146 0.20099999999999996 0.16688741721854303\n",
            "licensed_car102.txt 0 0.53375 0.7178683385579937 0.225 0.1667711598746081\n"
          ],
          "name": "stdout"
        }
      ]
    },
    {
      "cell_type": "code",
      "metadata": {
        "colab": {
          "base_uri": "https://localhost:8080/"
        },
        "id": "xUZROsUhgFJ0",
        "outputId": "7c577f5c-6f50-4b40-cf57-85e94481324d"
      },
      "source": [
        "\n",
        "import os\n",
        "try:\n",
        " from PIL import Image\n",
        "except ImportError:\n",
        " import Image\n",
        "\n",
        "c=0\n",
        "\n",
        "#saving bounding boxes and labels\n",
        "for img in os.listdir(f'{PATH}/images'):\n",
        "    c=c+1\n",
        "\n",
        "    #extracting file name, eg: Car1 from Car1.png\n",
        "    f_name=img.split('.')[0]\n",
        "    \n",
        "    #getting ground truth\n",
        "    xml_to_txt(f_name)\n",
        "\n",
        "print(c)"
      ],
      "execution_count": null,
      "outputs": [
        {
          "output_type": "stream",
          "text": [
            "103\n"
          ],
          "name": "stdout"
        }
      ]
    },
    {
      "cell_type": "code",
      "metadata": {
        "colab": {
          "base_uri": "https://localhost:8080/",
          "height": 35
        },
        "id": "nEAdWXxCHebc",
        "outputId": "0fdad415-896c-490d-855a-b2730dd2c7da"
      },
      "source": [
        "os.chdir(f'{PATH}')\n",
        "os.getcwd()"
      ],
      "execution_count": null,
      "outputs": [
        {
          "output_type": "execute_result",
          "data": {
            "application/vnd.google.colaboratory.intrinsic+json": {
              "type": "string"
            },
            "text/plain": [
              "'/content/drive/MyDrive/ANPR System/dataset/test'"
            ]
          },
          "metadata": {
            "tags": []
          },
          "execution_count": 14
        }
      ]
    },
    {
      "cell_type": "code",
      "metadata": {
        "id": "THcJtP_LCqQe"
      },
      "source": [
        "img_list={}\n",
        "c=0\n",
        "\n",
        "for img in os.listdir(f'{PATH}/images'):\n",
        "    #reorder clean files\n",
        "    sno= (img.split('.')[0])[4:]\n",
        "    img_list[sno]=c\n",
        "    c=c+1\n",
        "    # os.rename(img,f'licensed_car{c}.png')\n",
        "    # os.join('{PATH}/bounding_boxes/',os.rename({f_name}.txt,'licensed_car{c}.txt'))\n",
        "    # os.join('{PATH}/license_numbers/',os.rename({f_name}.txt,'licensed_car{c}.txt'))"
      ],
      "execution_count": null,
      "outputs": []
    },
    {
      "cell_type": "code",
      "metadata": {
        "colab": {
          "base_uri": "https://localhost:8080/",
          "height": 35
        },
        "id": "E9Vv-CYlLB6K",
        "outputId": "4b9b9e0f-c549-4c3e-eeb8-3bef4597e17c"
      },
      "source": [
        "os.chdir(f'{PATH}/images/')\n",
        "os.getcwd()"
      ],
      "execution_count": null,
      "outputs": [
        {
          "output_type": "execute_result",
          "data": {
            "application/vnd.google.colaboratory.intrinsic+json": {
              "type": "string"
            },
            "text/plain": [
              "'/content/drive/MyDrive/ANPR System/dataset/test/images'"
            ]
          },
          "metadata": {
            "tags": []
          },
          "execution_count": 27
        }
      ]
    },
    {
      "cell_type": "code",
      "metadata": {
        "id": "ZN4pyefwLMXl"
      },
      "source": [
        "for img in os.listdir(f'{PATH}/images'):\n",
        "  #reorder clean files\n",
        "  sno= (img.split('.')[0])[4:]\n",
        "  os.rename(img,f'licensed_car{img_list[sno]}.png')"
      ],
      "execution_count": null,
      "outputs": []
    },
    {
      "cell_type": "code",
      "metadata": {
        "colab": {
          "base_uri": "https://localhost:8080/",
          "height": 35
        },
        "id": "SrKOTv7nM374",
        "outputId": "3861437c-f95d-4996-ec4f-ceea8f8a44d9"
      },
      "source": [
        "os.chdir(f'{PATH}/bounding_boxes/')\n",
        "os.getcwd()"
      ],
      "execution_count": null,
      "outputs": [
        {
          "output_type": "execute_result",
          "data": {
            "application/vnd.google.colaboratory.intrinsic+json": {
              "type": "string"
            },
            "text/plain": [
              "'/content/drive/MyDrive/ANPR System/dataset/test/bounding_boxes'"
            ]
          },
          "metadata": {
            "tags": []
          },
          "execution_count": 40
        }
      ]
    },
    {
      "cell_type": "code",
      "metadata": {
        "id": "9W4IiLYRM9nH"
      },
      "source": [
        "for annotation in os.listdir(f'{PATH}/bounding_boxes'):\n",
        "  #reorder clean files\n",
        "  sno= (annotation.split('.')[0])[4:]\n",
        "  os.rename(annotation,f'licensed_car{img_list[sno]}.txt')"
      ],
      "execution_count": null,
      "outputs": []
    },
    {
      "cell_type": "code",
      "metadata": {
        "id": "80hl_VdsfYiH"
      },
      "source": [
        "images=[]\n",
        "\n",
        "for img in os.listdir(f'{PATH}'):\n",
        "\n",
        "    images.append(img)\n",
        "\n",
        "    "
      ],
      "execution_count": null,
      "outputs": []
    },
    {
      "cell_type": "code",
      "metadata": {
        "id": "DI5vlOdjSMla"
      },
      "source": [
        "#method to write list to a text file \n",
        "def write_list_to_txt(lst,file_name):\n",
        "    f=open(file_name,'w')\n",
        "    for r in lst:\n",
        "        f.write(r+\"\\n\")\n",
        "    f.close()"
      ],
      "execution_count": null,
      "outputs": []
    },
    {
      "cell_type": "code",
      "metadata": {
        "id": "bjFypRg0exwg"
      },
      "source": [
        "write_list_to_txt(images,f'{PATH}/test.txt')"
      ],
      "execution_count": null,
      "outputs": []
    }
  ]
}